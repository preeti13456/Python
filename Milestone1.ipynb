{
  "nbformat": 4,
  "nbformat_minor": 0,
  "metadata": {
    "colab": {
      "name": "Milestone1.ipynb",
      "provenance": [],
      "collapsed_sections": [],
      "include_colab_link": true
    },
    "kernelspec": {
      "name": "python3",
      "display_name": "Python 3"
    }
  },
  "cells": [
    {
      "cell_type": "markdown",
      "metadata": {
        "id": "view-in-github",
        "colab_type": "text"
      },
      "source": [
        "<a href=\"https://colab.research.google.com/github/preeti13456/Python/blob/master/Milestone1.ipynb\" target=\"_parent\"><img src=\"https://colab.research.google.com/assets/colab-badge.svg\" alt=\"Open In Colab\"/></a>"
      ]
    },
    {
      "cell_type": "code",
      "metadata": {
        "id": "5Hb3_SA91N3h",
        "colab_type": "code",
        "outputId": "b79f3071-84d1-4c99-d0ef-3df9b9b9c834",
        "colab": {
          "base_uri": "https://localhost:8080/",
          "height": 168
        }
      },
      "source": [
        "#game_parser.py\n",
        "from cells import (\n",
        "    Start,\n",
        "    End,\n",
        "    Air,\n",
        "    Wall,\n",
        "    Fire,\n",
        "    Water,\n",
        "    Teleport\n",
        ")\n",
        " \n",
        "STRING_TO_CELL = {'X': Start, ' ': Air, 'Y': End, '*': Wall, 'W': Water, 'F': Fire}\n",
        "KNOWN_CODES = {'X', '', 'Y', '*', 'W', 'F', ' ', '\\n'}\n",
        "KNOWN_CODES = KNOWN_CODES.union({str(i) for i in range(1, 10)})\n",
        " \n",
        "def read_lines(filename: str) -> list:\n",
        "    \"\"\"\n",
        "    Read in a file, process them using parse(),\n",
        "    and return the contents as a list of list of cells.\n",
        " \n",
        "    Arguments:\n",
        "        filename -- name of file to open\n",
        " \n",
        "    Returns:\n",
        "        #todo\n",
        "    \"\"\"\n",
        "    with open('board_hard.txt', 'r') as file:\n",
        "        lines = file.readlines()\n",
        " \n",
        "    return parse(lines)\n",
        " \n",
        " \n",
        "def parse(lines: list) -> list:\n",
        "    \"\"\"Transform the input into a grid.\n",
        " \n",
        "    Arguments:\n",
        "        lines -- list of strings representing the grid\n",
        " \n",
        "    Returns:\n",
        "        list -- contains list of lists of Cells\n",
        "    \"\"\"\n",
        "    final_board = list()\n",
        "    row = list()\n",
        "    num_starting_codes = 0\n",
        "    num_ending_codes = 0\n",
        "    teleport_pads = {}\n",
        "    for line in lines:\n",
        "        for char in line:\n",
        "            if char not in KNOWN_CODES:\n",
        "                message = \"Bad letter in configuration file: {0}.\".format(char)\n",
        "                raise ValueError(message)\n",
        "            else:\n",
        "                if char == 'X':\n",
        "                    num_starting_codes += 1\n",
        "                elif char == 'Y':\n",
        "                    num_ending_codes += 1\n",
        " \n",
        "                if char != '\\n':\n",
        "                    row.append(char)\n",
        "        final_board.append(row)\n",
        "        row = list()\n",
        " \n",
        "    if num_starting_codes != 1:\n",
        "        message = \"Expected 1 starting position, got {0}.\".format(num_starting_codes)\n",
        "        raise ValueError(message)\n",
        "    elif num_ending_codes != 1:\n",
        "        message = \"Expected 1 ending position, got {0}.\".format(num_ending_codes)\n",
        "        raise ValueError(message)\n",
        " \n",
        "    # change elements from strings to cells\n",
        "    for i in range(len(final_board)):\n",
        "        for j in range(len(final_board[i])):\n",
        "            try:\n",
        "                teleport_pad = int(final_board[i][j])\n",
        "                final_board[i][j] = Teleport(teleport_pad)\n",
        " \n",
        "                if teleport_pad not in teleport_pads:\n",
        "                    teleport_pads[teleport_pad] = 1\n",
        "                else:\n",
        "                    teleport_pads[teleport_pad] += 1\n",
        " \n",
        "            except ValueError:\n",
        "                final_board[i][j] = STRING_TO_CELL[final_board[i][j]]()\n",
        " \n",
        "    for pad in teleport_pads:\n",
        "        if teleport_pads[pad] != 2:\n",
        "            message = \"Teleport pad {0} does not have an exclusively matching pad.\".format(pad)\n",
        "            raise ValueError(message)\n",
        "    return final_board\n",
        "def display(self,start):\n",
        "  parse(test_parser.py)\n",
        " \n",
        " \n",
        "# testing\n",
        "if __name__ == '__main__':\n",
        "    for line in read_lines('board_hard.txt'):\n",
        "        row_str = ''\n",
        "        for cell in line:\n",
        "            row_str += str(cell.display)\n",
        "        print(row_str)"
      ],
      "execution_count": 0,
      "outputs": [
        {
          "output_type": "stream",
          "text": [
            "*X*************\n",
            "*       2 *   *\n",
            "* *** ** **** *\n",
            "* *  W*   1   *\n",
            "* ***** ***** *\n",
            "*  2 *   ** *F*\n",
            "* ** ***  F   *\n",
            "* 1********F  *\n",
            "*************Y*\n"
          ],
          "name": "stdout"
        }
      ]
    },
    {
      "cell_type": "code",
      "metadata": {
        "id": "5dzy3fnwhnlH",
        "colab_type": "code",
        "colab": {}
      },
      "source": [
        ""
      ],
      "execution_count": 0,
      "outputs": []
    },
    {
      "cell_type": "code",
      "metadata": {
        "id": "wMdfAwnMbu_E",
        "colab_type": "code",
        "colab": {}
      },
      "source": [
        ""
      ],
      "execution_count": 0,
      "outputs": []
    },
    {
      "cell_type": "code",
      "metadata": {
        "id": "5Ay2i9xn3Kc7",
        "colab_type": "code",
        "outputId": "9f1c11e4-2c30-40f7-c72d-212d1e176232",
        "colab": {
          "base_uri": "https://localhost:8080/",
          "height": 212
        }
      },
      "source": [
        "#grid.py\n",
        "def grid_to_string(grid, player):\n",
        "\n",
        "    \"\"\"Turns a grid and player into a string\n",
        "\n",
        "    Arguments:\n",
        "        grid -- list of list of Cells\n",
        "        player -- a Player with water buckets\n",
        "\n",
        "    Returns:\n",
        "        string: A string representation of the grid and player.\n",
        "    \"\"\"\n",
        "    final_string_list = list()\n",
        "    for i in range(len(grid)):\n",
        "        row_str = ''\n",
        "        for j in range(len(grid[i])):\n",
        "            if (i, j) == (player.row, player.col):\n",
        "                row_str += 'A'\n",
        "            else:\n",
        "                row_str += str(grid[i][j].display)\n",
        "        final_string_list.append(row_str)\n",
        "\n",
        "    board_str = '\\n'.join(str_row for str_row in final_string_list)\n",
        "    player_buckets = \"\\n\\nYou have {0} water \".format(player.num_water_buckets)\n",
        "\n",
        "    if player.num_water_buckets == 1:\n",
        "        player_buckets += 'bucket.'\n",
        "        \n",
        "    else: player_buckets += 'buckets.'\n",
        "\n",
        "    return board_str + player_buckets\n",
        "\n",
        "    def Game(file):\n",
        "        self.clear_terminal()\n",
        "        print()\n",
        "        print(self.grid_to_string(Game.grid))\n",
        "        print()\n",
        "\n",
        "\n",
        "if __name__ == '__main__':\n",
        "    game = Game(\"board_hard.txt\")\n",
        "    print(grid_to_string(game.board, game.player))"
      ],
      "execution_count": 0,
      "outputs": [
        {
          "output_type": "error",
          "ename": "NameError",
          "evalue": "ignored",
          "traceback": [
            "\u001b[0;31m---------------------------------------------------------------------------\u001b[0m",
            "\u001b[0;31mNameError\u001b[0m                                 Traceback (most recent call last)",
            "\u001b[0;32m<ipython-input-58-6cb2fc7e64cf>\u001b[0m in \u001b[0;36m<module>\u001b[0;34m()\u001b[0m\n\u001b[1;32m     39\u001b[0m \u001b[0;34m\u001b[0m\u001b[0m\n\u001b[1;32m     40\u001b[0m \u001b[0;32mif\u001b[0m \u001b[0m__name__\u001b[0m \u001b[0;34m==\u001b[0m \u001b[0;34m'__main__'\u001b[0m\u001b[0;34m:\u001b[0m\u001b[0;34m\u001b[0m\u001b[0;34m\u001b[0m\u001b[0m\n\u001b[0;32m---> 41\u001b[0;31m     \u001b[0mgame\u001b[0m \u001b[0;34m=\u001b[0m \u001b[0mGame\u001b[0m\u001b[0;34m(\u001b[0m\u001b[0;34m\"board_hard.txt\"\u001b[0m\u001b[0;34m)\u001b[0m\u001b[0;34m\u001b[0m\u001b[0;34m\u001b[0m\u001b[0m\n\u001b[0m\u001b[1;32m     42\u001b[0m     \u001b[0mprint\u001b[0m\u001b[0;34m(\u001b[0m\u001b[0mgrid_to_string\u001b[0m\u001b[0;34m(\u001b[0m\u001b[0mgame\u001b[0m\u001b[0;34m.\u001b[0m\u001b[0mboard\u001b[0m\u001b[0;34m,\u001b[0m \u001b[0mgame\u001b[0m\u001b[0;34m.\u001b[0m\u001b[0mplayer\u001b[0m\u001b[0;34m)\u001b[0m\u001b[0;34m)\u001b[0m\u001b[0;34m\u001b[0m\u001b[0;34m\u001b[0m\u001b[0m\n",
            "\u001b[0;31mNameError\u001b[0m: name 'Game' is not defined"
          ]
        }
      ]
    },
    {
      "cell_type": "code",
      "metadata": {
        "id": "82lQEEUjHae1",
        "colab_type": "code",
        "outputId": "ab8371ae-2085-45e5-e0db-46aeed041982",
        "colab": {
          "base_uri": "https://localhost:8080/",
          "height": 363
        }
      },
      "source": [
        "from cells import (\n",
        "    Start,\n",
        "    End,\n",
        "    Air,\n",
        "    Wall,\n",
        "    Fire,\n",
        "    Water,\n",
        "    Teleport\n",
        ")\n",
        "\n",
        "\n",
        "def read_lines(filename):\n",
        "    \"\"\"Read in a file, process them using parse(),\n",
        "    and return the contents as a list of list of cells.\"\"\"\n",
        "\n",
        "    lines = []\n",
        "    with open(filename) as infile:\n",
        "        line = filename.readline()\n",
        "        if not line == '':\n",
        "            lines.append(line)\n",
        "\n",
        "    parse(lines)\n",
        "\n",
        "\n",
        "def parse(lines):\n",
        "    \"\"\"Transform the input into a grid.\n",
        "\n",
        "    Arguments:\n",
        "        lines -- list of strings representing the grid\n",
        "\n",
        "    Returns:\n",
        "        list -- contains list of lists of Cells\n",
        "    \"\"\"\n",
        "\n",
        "    grid = []\n",
        "\n",
        "    for line in lines:\n",
        "        line = line.strip().split()\n",
        "\n",
        "        for i, ch in enumerate(line):\n",
        "            if ch == Start.display:\n",
        "                line[i]=Start\n",
        "            elif ch == End.display:\n",
        "                line[i]=End\n",
        "            elif ch == Air.display:\n",
        "                line[i]=Air\n",
        "            elif ch == Wall.display:\n",
        "                line[i]=Wall\n",
        "            elif ch == Fire.display:\n",
        "                line[i]=Fire\n",
        "            elif ch == Water.display:\n",
        "                line[i]=Water\n",
        "    \n",
        "        grid.append(line) #2D Array, Grid"
      ],
      "execution_count": 0,
      "outputs": [
        {
          "output_type": "error",
          "ename": "ModuleNotFoundError",
          "evalue": "ignored",
          "traceback": [
            "\u001b[0;31m---------------------------------------------------------------------------\u001b[0m",
            "\u001b[0;31mModuleNotFoundError\u001b[0m                       Traceback (most recent call last)",
            "\u001b[0;32m<ipython-input-4-7808788664bd>\u001b[0m in \u001b[0;36m<module>\u001b[0;34m()\u001b[0m\n\u001b[0;32m----> 1\u001b[0;31m from cells import (\n\u001b[0m\u001b[1;32m      2\u001b[0m     \u001b[0mStart\u001b[0m\u001b[0;34m,\u001b[0m\u001b[0;34m\u001b[0m\u001b[0;34m\u001b[0m\u001b[0m\n\u001b[1;32m      3\u001b[0m     \u001b[0mEnd\u001b[0m\u001b[0;34m,\u001b[0m\u001b[0;34m\u001b[0m\u001b[0;34m\u001b[0m\u001b[0m\n\u001b[1;32m      4\u001b[0m     \u001b[0mAir\u001b[0m\u001b[0;34m,\u001b[0m\u001b[0;34m\u001b[0m\u001b[0;34m\u001b[0m\u001b[0m\n\u001b[1;32m      5\u001b[0m     \u001b[0mWall\u001b[0m\u001b[0;34m,\u001b[0m\u001b[0;34m\u001b[0m\u001b[0;34m\u001b[0m\u001b[0m\n",
            "\u001b[0;31mModuleNotFoundError\u001b[0m: No module named 'cells'",
            "",
            "\u001b[0;31m---------------------------------------------------------------------------\u001b[0;32m\nNOTE: If your import is failing due to a missing package, you can\nmanually install dependencies using either !pip or !apt.\n\nTo view examples of installing some common dependencies, click the\n\"Open Examples\" button below.\n\u001b[0;31m---------------------------------------------------------------------------\u001b[0m\n"
          ]
        }
      ]
    },
    {
      "cell_type": "code",
      "metadata": {
        "id": "GQ-yTQETcT8s",
        "colab_type": "code",
        "colab": {}
      },
      "source": [
        ""
      ],
      "execution_count": 0,
      "outputs": []
    }
  ]
}